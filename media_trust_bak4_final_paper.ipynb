{
 "cells": [
  {
   "cell_type": "markdown",
   "id": "2d754184-c9c4-44b1-b184-b039e5d044b3",
   "metadata": {},
   "source": [
    "# An evaluation of peoples confidence in press and television in the US from 1998 to 2022  "
   ]
  },
  {
   "cell_type": "markdown",
   "id": "1b7f5bd0-cac7-47a6-a504-883dbeb5c846",
   "metadata": {},
   "source": [
    "## 1. Abstract"
   ]
  },
  {
   "cell_type": "markdown",
   "id": "bd92a5a7-dd6d-4c85-ae3b-bd28990f5ce6",
   "metadata": {},
   "source": [
    "## 2. Introduction\n",
    "\n",
    "In the modern era of dissinformation campaigns, fast moving news cycles and a sheer uncheckable amount of media, one would assume the press and television play pivotal roles in differentiating fact from fiction. As a matter of fact, its role in society has always been to shape public opinion, influence decision-making and foster discourse. [] \n",
    "\n",
    "In recent years, however we have witnessed significant transformations in the way information is produced, consumed, and perceived over the past decades []. Especially the trust in news outlets (be it print media or television) has seemingly declined, with people suspecting biases left and right []. Understanding the dynamics of public confidence in these mediums is crucial for assessing their societal impact and effectiveness as conduits of information.\n",
    "\n",
    "In no other country is this as apparent as in the US. From fostering the breeding ground of Q-Anon and the resulting January 6th insurections [] to speculations about \"Jewish Space Lasers\" [], the US populus has stood out in recent years with its seeming information resistence.\n",
    "\n",
    "This paper aims at evaluating people's confidence in the press and television in the United States, spanning the period from 1998 to 2022 according to the General Social Survey (GSS), comparing several key indicators such as gender, education level and party affiliation. "
   ]
  },
  {
   "cell_type": "markdown",
   "id": "338eb6b5-74c4-41c8-9fdf-55a7a45f278a",
   "metadata": {},
   "source": [
    "## 3 Methodology\n",
    "\n",
    "### 3.1 Data source\n",
    "The primary dataset used in this study is the General Social Survey (GSS), a nationally representative survey conducted in the United States []. The GSS collects data on a wide range of social, demographic, and attitudinal variables, making it well-suited for examining trends in public opinion over time. I used the GSS data archives spanning the years 1998 to 2022 because this timeframe encapsulates many significant societal and technological changes. Specifically, 1998 is when Google first launched their search engine, making the web majority accessible, thus kickstarting a new era of information exchange [].\n",
    "\n",
    "### 3.2 Data pre-processing\n",
    "To pre-process the data, I used the Python programming language to download, unzip and prepare the Stata `dta` files. Utilizing the PyStata library, these individual datasets were then merged into a single large dataset encompassing the entire study period.\n",
    "\n",
    "### 3.3 Variables of interest\n",
    "The primary variables of interest in this study include measures of confidence in the press (`conpress`) and television (`contv`), as captured by survey questions within the GSS. Additionaly some demographic characteristics like gender (`sex`) and education level (`degree`) as well as political affiliation (`partyid`) and socio-economic status (`conrinc`) are also being included in my analysis."
   ]
  },
  {
   "cell_type": "markdown",
   "id": "3ce87603-930b-488e-9e1e-3111a511fe65",
   "metadata": {},
   "source": [
    "## 4. Preparing the data\n",
    "\n",
    "The pre-processing of the data is done in two steps. First, we need to download and extract the data. This can be done with plain Python. Next, we need to combine the individual Stata datasets into one single dataset. To achieve this, we will be using the `pandas` library as well as the `pystata` library.\n",
    "\n",
    "### 4.1 Getting the data"
   ]
  },
  {
   "cell_type": "markdown",
   "id": "49c2a5bc-8388-4653-84af-dbf58302cd45",
   "metadata": {},
   "source": [
    "To get started with retrieving the data, we need to import some necessary libraries and modules such as `os`, `zipfile` and `urllib`. If it doesn't exist, we also create a directory to store the survey data."
   ]
  },
  {
   "cell_type": "code",
   "execution_count": 1,
   "id": "41a9171a-41c9-4604-83ff-c9f8dfdb293b",
   "metadata": {},
   "outputs": [],
   "source": [
    "import os\n",
    "import zipfile\n",
    "from urllib.request import urlretrieve\n",
    "\n",
    "data_path = \"gss_data\"\n",
    "if not os.path.exists(data_path):\n",
    "    os.mkdir(data_path)"
   ]
  },
  {
   "cell_type": "markdown",
   "id": "180b7518-ac67-42f4-8e14-c6c258f6e208",
   "metadata": {},
   "source": [
    "Next, we define the URLs and use the urlretrieve function to download data files from the specified sources, ensuring they are accessible for subsequent analysis. The downloaded data files are then stored in the previously created directory."
   ]
  },
  {
   "cell_type": "code",
   "execution_count": 2,
   "id": "b7911a08-5f2f-4755-bba8-3698e7de317b",
   "metadata": {},
   "outputs": [],
   "source": [
    "dataset_urls = [\n",
    "    (\"https://gss.norc.org/documents/stata/1998_stata.zip\", 1998),\n",
    "    (\"https://gss.norc.org/documents/stata/2000_stata.zip\", 2000),\n",
    "    (\"https://gss.norc.org/documents/stata/2002_stata.zip\", 2002),\n",
    "    (\"https://gss.norc.org/documents/stata/2004_stata.zip\", 2004),\n",
    "    (\"https://gss.norc.org/documents/stata/2006_stata.zip\", 2006),\n",
    "    (\"https://gss.norc.org/documents/stata/2008_stata.zip\", 2008),\n",
    "    (\"https://gss.norc.org/documents/stata/2010_stata.zip\", 2010),\n",
    "    (\"https://gss.norc.org/documents/stata/2012_stata.zip\", 2012),\n",
    "    (\"https://gss.norc.org/documents/stata/2014_stata.zip\", 2014),\n",
    "    (\"https://gss.norc.org/documents/stata/2016_stata.zip\", 2016),\n",
    "    (\"https://gss.norc.org/documents/stata/2018_stata.zip\", 2018),\n",
    "    (\"https://gss.norc.org/documents/stata/2021_stata.zip\", 2021),\n",
    "    (\"https://gss.norc.org/documents/stata/2022_stata.zip\", 2022)\n",
    "]\n",
    "\n",
    "dataset_zips = []\n",
    "for (url, year) in dataset_urls:\n",
    "    f, _ = urlretrieve(url, os.path.join(data_path, str(year) + \".zip\"))\n",
    "    dataset_zips.append((f, year))"
   ]
  },
  {
   "cell_type": "markdown",
   "id": "a7b68b24-1ea3-4cc3-8c10-20ccd333b82c",
   "metadata": {},
   "source": [
    "Finally, we can unzip the `dta` files and remove the downloaded `zip` archives."
   ]
  },
  {
   "cell_type": "code",
   "execution_count": 3,
   "id": "82a6b6ab-0e91-49e7-b9df-eab6b9c2479d",
   "metadata": {},
   "outputs": [],
   "source": [
    "dataset_files = []\n",
    "for (zip, year) in dataset_zips:\n",
    "    with zipfile.ZipFile(zip) as z:\n",
    "        file_to_extract = list(filter(lambda x: x.filename.endswith(\".dta\"), z.infolist()))[0]\n",
    "        file_to_extract.filename = str(year) + \".dta\"\n",
    "        z.extract(file_to_extract, data_path)\n",
    "        dataset_files.append(os.path.join(data_path, file_to_extract.filename))\n",
    "\n",
    "    os.remove(zip)"
   ]
  },
  {
   "cell_type": "markdown",
   "id": "102b5516-c1dc-4127-84d4-efa382a2ccf5",
   "metadata": {},
   "source": [
    "### 4.2 Combining the datasets"
   ]
  },
  {
   "cell_type": "code",
   "execution_count": 4,
   "id": "be6119e9-9329-4b97-b060-841447c1a70e",
   "metadata": {},
   "outputs": [],
   "source": [
    "from pystata import config\n",
    "\n",
    "config.init(\"be\", splash=False)"
   ]
  },
  {
   "cell_type": "code",
   "execution_count": 5,
   "id": "38faf745-934d-46a5-b9cf-b230eb467e86",
   "metadata": {},
   "outputs": [],
   "source": [
    "from pystata import stata\n",
    "import pandas as pd\n",
    "\n",
    "stata.run(f\"use {dataset_files[0]}\")"
   ]
  },
  {
   "cell_type": "code",
   "execution_count": 6,
   "id": "ab65f939-cde1-498a-9d63-def195a9e419",
   "metadata": {},
   "outputs": [],
   "source": [
    "df1 = stata.pdataframe_from_data()"
   ]
  },
  {
   "cell_type": "code",
   "execution_count": 7,
   "id": "bcf37b11-c16b-4b12-a4ee-4649c064007a",
   "metadata": {},
   "outputs": [
    {
     "data": {
      "text/html": [
       "<div>\n",
       "<style scoped>\n",
       "    .dataframe tbody tr th:only-of-type {\n",
       "        vertical-align: middle;\n",
       "    }\n",
       "\n",
       "    .dataframe tbody tr th {\n",
       "        vertical-align: top;\n",
       "    }\n",
       "\n",
       "    .dataframe thead th {\n",
       "        text-align: right;\n",
       "    }\n",
       "</style>\n",
       "<table border=\"1\" class=\"dataframe\">\n",
       "  <thead>\n",
       "    <tr style=\"text-align: right;\">\n",
       "      <th></th>\n",
       "      <th>degree</th>\n",
       "      <th>educ</th>\n",
       "    </tr>\n",
       "  </thead>\n",
       "  <tbody>\n",
       "    <tr>\n",
       "      <th>0</th>\n",
       "      <td>1.0</td>\n",
       "      <td>12.0</td>\n",
       "    </tr>\n",
       "    <tr>\n",
       "      <th>1</th>\n",
       "      <td>2.0</td>\n",
       "      <td>17.0</td>\n",
       "    </tr>\n",
       "    <tr>\n",
       "      <th>2</th>\n",
       "      <td>1.0</td>\n",
       "      <td>12.0</td>\n",
       "    </tr>\n",
       "    <tr>\n",
       "      <th>3</th>\n",
       "      <td>1.0</td>\n",
       "      <td>13.0</td>\n",
       "    </tr>\n",
       "    <tr>\n",
       "      <th>4</th>\n",
       "      <td>3.0</td>\n",
       "      <td>16.0</td>\n",
       "    </tr>\n",
       "    <tr>\n",
       "      <th>...</th>\n",
       "      <td>...</td>\n",
       "      <td>...</td>\n",
       "    </tr>\n",
       "    <tr>\n",
       "      <th>2827</th>\n",
       "      <td>2.0</td>\n",
       "      <td>14.0</td>\n",
       "    </tr>\n",
       "    <tr>\n",
       "      <th>2828</th>\n",
       "      <td>1.0</td>\n",
       "      <td>12.0</td>\n",
       "    </tr>\n",
       "    <tr>\n",
       "      <th>2829</th>\n",
       "      <td>0.0</td>\n",
       "      <td>6.0</td>\n",
       "    </tr>\n",
       "    <tr>\n",
       "      <th>2830</th>\n",
       "      <td>1.0</td>\n",
       "      <td>12.0</td>\n",
       "    </tr>\n",
       "    <tr>\n",
       "      <th>2831</th>\n",
       "      <td>0.0</td>\n",
       "      <td>10.0</td>\n",
       "    </tr>\n",
       "  </tbody>\n",
       "</table>\n",
       "<p>2832 rows × 2 columns</p>\n",
       "</div>"
      ],
      "text/plain": [
       "      degree  educ\n",
       "0        1.0  12.0\n",
       "1        2.0  17.0\n",
       "2        1.0  12.0\n",
       "3        1.0  13.0\n",
       "4        3.0  16.0\n",
       "...      ...   ...\n",
       "2827     2.0  14.0\n",
       "2828     1.0  12.0\n",
       "2829     0.0   6.0\n",
       "2830     1.0  12.0\n",
       "2831     0.0  10.0\n",
       "\n",
       "[2832 rows x 2 columns]"
      ]
     },
     "execution_count": 7,
     "metadata": {},
     "output_type": "execute_result"
    }
   ],
   "source": [
    "df1[[\"degree\", \"educ\"]]"
   ]
  },
  {
   "cell_type": "code",
   "execution_count": null,
   "id": "81cc4bf4-90b7-4d26-b471-49331df1f510",
   "metadata": {},
   "outputs": [],
   "source": [
    "pd.concat"
   ]
  },
  {
   "cell_type": "markdown",
   "id": "ca7757cd-a60c-407f-9ea9-4cf479145de2",
   "metadata": {},
   "source": [
    "## 5. Analyzing the data\n",
    "\n",
    "### 5.1 Trust in press and TV by year\n",
    "\n",
    "### 5.2 Trust in press and TV by year by gender\n",
    "\n",
    "#### 5.2.1 Correlation\n",
    "\n",
    "### 5.3 Trust in press and TV by year by education levels\n",
    "\n",
    "#### 5.3.1 Correlation\n",
    "\n",
    "### 5.4 Trust in press and TV by year by party affiliation\n",
    "\n",
    "#### 5.4.1 Correlation\n",
    "\n",
    "### 5.5 Trust in press and TV by year by income\n",
    "\n",
    "#### 5.5.1 Correlation\n"
   ]
  },
  {
   "cell_type": "markdown",
   "id": "860afa27-0df8-451f-bba9-6edd4f69341b",
   "metadata": {},
   "source": [
    "## 6. Conclusion"
   ]
  },
  {
   "cell_type": "markdown",
   "id": "0e01d878-2427-4bea-ac41-c846835021c9",
   "metadata": {},
   "source": [
    "## 7. Sources"
   ]
  }
 ],
 "metadata": {
  "kernelspec": {
   "display_name": "Python 3 (ipykernel)",
   "language": "python",
   "name": "python3"
  },
  "language_info": {
   "codemirror_mode": {
    "name": "ipython",
    "version": 3
   },
   "file_extension": ".py",
   "mimetype": "text/x-python",
   "name": "python",
   "nbconvert_exporter": "python",
   "pygments_lexer": "ipython3",
   "version": "3.11.7"
  }
 },
 "nbformat": 4,
 "nbformat_minor": 5
}
